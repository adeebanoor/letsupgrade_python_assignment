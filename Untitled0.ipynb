{
  "nbformat": 4,
  "nbformat_minor": 0,
  "metadata": {
    "colab": {
      "name": "Untitled0.ipynb",
      "provenance": [],
      "collapsed_sections": [],
      "authorship_tag": "ABX9TyNu5qj5u+JG05zKDjGnkqR/",
      "include_colab_link": true
    },
    "kernelspec": {
      "name": "python3",
      "display_name": "Python 3"
    }
  },
  "cells": [
    {
      "cell_type": "markdown",
      "metadata": {
        "id": "view-in-github",
        "colab_type": "text"
      },
      "source": [
        "<a href=\"https://colab.research.google.com/github/adeebanoor/letsupgrade_python_assignment/blob/main/Untitled0.ipynb\" target=\"_parent\"><img src=\"https://colab.research.google.com/assets/colab-badge.svg\" alt=\"Open In Colab\"/></a>"
      ]
    },
    {
      "cell_type": "markdown",
      "metadata": {
        "id": "JWDstX5IdPsq"
      },
      "source": [
        "**Assingment:1 5 Different functions of the String in Python**"
      ]
    },
    {
      "cell_type": "code",
      "metadata": {
        "colab": {
          "base_uri": "https://localhost:8080/"
        },
        "id": "7fVGNDfnXuuD",
        "outputId": "a0b48ba4-9ea6-4c94-d806-be7c77556dd5"
      },
      "source": [
        "name=\"hey, my name is adeeba noor.\"\r\n",
        "name.count(\"e\") # count:-Returns the number of times a specified value occurs in a string."
      ],
      "execution_count": 41,
      "outputs": [
        {
          "output_type": "execute_result",
          "data": {
            "text/plain": [
              "4"
            ]
          },
          "metadata": {
            "tags": []
          },
          "execution_count": 41
        }
      ]
    },
    {
      "cell_type": "code",
      "metadata": {
        "colab": {
          "base_uri": "https://localhost:8080/",
          "height": 35
        },
        "id": "o1DXbPmQY-a8",
        "outputId": "0e5040a3-d064-4f6a-9c8d-3c2f1ff3f9f9"
      },
      "source": [
        "name.capitalize() #capitalize:-Converts the first character to upper case."
      ],
      "execution_count": 37,
      "outputs": [
        {
          "output_type": "execute_result",
          "data": {
            "application/vnd.google.colaboratory.intrinsic+json": {
              "type": "string"
            },
            "text/plain": [
              "'Hey, my name is adeeba noor.'"
            ]
          },
          "metadata": {
            "tags": []
          },
          "execution_count": 37
        }
      ]
    },
    {
      "cell_type": "code",
      "metadata": {
        "colab": {
          "base_uri": "https://localhost:8080/",
          "height": 35
        },
        "id": "qBElM66Wb4PJ",
        "outputId": "5d310739-930e-42a5-eea4-4ed28794e320"
      },
      "source": [
        "name.title() #tittle:-\tConverts the first character of each word to upper case"
      ],
      "execution_count": 36,
      "outputs": [
        {
          "output_type": "execute_result",
          "data": {
            "application/vnd.google.colaboratory.intrinsic+json": {
              "type": "string"
            },
            "text/plain": [
              "'Hey, My Name Is Adeeba Noor.'"
            ]
          },
          "metadata": {
            "tags": []
          },
          "execution_count": 36
        }
      ]
    },
    {
      "cell_type": "code",
      "metadata": {
        "colab": {
          "base_uri": "https://localhost:8080/",
          "height": 35
        },
        "id": "Rok6ioE2Zctf",
        "outputId": "e5eace2f-5156-4170-c763-bd4550c337ef"
      },
      "source": [
        "name.upper() #upper:-\tConverts a string into upper case"
      ],
      "execution_count": 17,
      "outputs": [
        {
          "output_type": "execute_result",
          "data": {
            "application/vnd.google.colaboratory.intrinsic+json": {
              "type": "string"
            },
            "text/plain": [
              "' HEY, MY NAME IS ADEEBA NOOR'"
            ]
          },
          "metadata": {
            "tags": []
          },
          "execution_count": 17
        }
      ]
    },
    {
      "cell_type": "code",
      "metadata": {
        "colab": {
          "base_uri": "https://localhost:8080/"
        },
        "id": "esHh5-xOa1fr",
        "outputId": "f64fe338-ae5c-4f46-ab52-a96395ad0804"
      },
      "source": [
        "name.find('is') #find:-Searches the string for a specified value and returns the position of where it was found"
      ],
      "execution_count": 35,
      "outputs": [
        {
          "output_type": "execute_result",
          "data": {
            "text/plain": [
              "13"
            ]
          },
          "metadata": {
            "tags": []
          },
          "execution_count": 35
        }
      ]
    },
    {
      "cell_type": "markdown",
      "metadata": {
        "id": "wYGYImaHfoct"
      },
      "source": [
        "**Assingment:2 5 Different functions of the List object in Python**"
      ]
    },
    {
      "cell_type": "code",
      "metadata": {
        "colab": {
          "base_uri": "https://localhost:8080/"
        },
        "id": "j9hBIdCOfmAn",
        "outputId": "dcfe4eea-325b-4f44-8feb-6a7a8791f0cb"
      },
      "source": [
        "myself=[\"adeeba\",\"CSE Student\",3,20,\"bye\"]\r\n",
        "myself"
      ],
      "execution_count": 109,
      "outputs": [
        {
          "output_type": "execute_result",
          "data": {
            "text/plain": [
              "['adeeba', 'CSE Student', 3, 20, 'bye']"
            ]
          },
          "metadata": {
            "tags": []
          },
          "execution_count": 109
        }
      ]
    },
    {
      "cell_type": "code",
      "metadata": {
        "colab": {
          "base_uri": "https://localhost:8080/"
        },
        "id": "pENp1b1-iLd8",
        "outputId": "91d288ce-572a-4117-a0a0-a547ba30738e"
      },
      "source": [
        "myself.pop(3) #pop:-Removes the element at the specified position\r\n",
        "print(myself)"
      ],
      "execution_count": 107,
      "outputs": [
        {
          "output_type": "stream",
          "text": [
            "['adeeba', 'CSE Student', 3]\n"
          ],
          "name": "stdout"
        }
      ]
    },
    {
      "cell_type": "code",
      "metadata": {
        "colab": {
          "base_uri": "https://localhost:8080/"
        },
        "id": "tLy1O9Lmofj-",
        "outputId": "5baf6236-6a64-47ef-92b5-e39238165cc4"
      },
      "source": [
        "myself.index(\"bye\") #index:-Returns the index of the first element with the specified value"
      ],
      "execution_count": 110,
      "outputs": [
        {
          "output_type": "execute_result",
          "data": {
            "text/plain": [
              "4"
            ]
          },
          "metadata": {
            "tags": []
          },
          "execution_count": 110
        }
      ]
    },
    {
      "cell_type": "code",
      "metadata": {
        "colab": {
          "base_uri": "https://localhost:8080/"
        },
        "id": "ewP8FDQVojL2",
        "outputId": "b9474227-6aa5-4ebb-e256-6ac0a324366e"
      },
      "source": [
        "myself.copy() #copy:-Returns a copy of the list"
      ],
      "execution_count": 111,
      "outputs": [
        {
          "output_type": "execute_result",
          "data": {
            "text/plain": [
              "['adeeba', 'CSE Student', 3, 20, 'bye']"
            ]
          },
          "metadata": {
            "tags": []
          },
          "execution_count": 111
        }
      ]
    },
    {
      "cell_type": "code",
      "metadata": {
        "colab": {
          "base_uri": "https://localhost:8080/"
        },
        "id": "COR0H1J1kHA-",
        "outputId": "f12ea1de-8595-4278-d739-3da93d9106e8"
      },
      "source": [
        "myself.reverse() #reverse:-\tReverses the order of the list\r\n",
        "print(myself)"
      ],
      "execution_count": 112,
      "outputs": [
        {
          "output_type": "stream",
          "text": [
            "['bye', 20, 3, 'CSE Student', 'adeeba']\n"
          ],
          "name": "stdout"
        }
      ]
    },
    {
      "cell_type": "code",
      "metadata": {
        "colab": {
          "base_uri": "https://localhost:8080/"
        },
        "id": "ITgWbcdpku0D",
        "outputId": "ff3dfc3c-77e4-4cd4-bcbc-637c123dab55"
      },
      "source": [
        "myself1=[\"adeeba\",\"CSE Student\",3,20,\"bye\"]\r\n",
        "myself1.count(\"CSE Student\") #count:-Returns the number of elements with the specified value"
      ],
      "execution_count": 113,
      "outputs": [
        {
          "output_type": "execute_result",
          "data": {
            "text/plain": [
              "1"
            ]
          },
          "metadata": {
            "tags": []
          },
          "execution_count": 113
        }
      ]
    },
    {
      "cell_type": "markdown",
      "metadata": {
        "id": "BnOevnOyqJgj"
      },
      "source": [
        ""
      ]
    },
    {
      "cell_type": "markdown",
      "metadata": {
        "id": "OV0811N1rBTj"
      },
      "source": [
        "**Assingment:3 5 Different functions of the Dictionary object in Python**"
      ]
    },
    {
      "cell_type": "code",
      "metadata": {
        "colab": {
          "base_uri": "https://localhost:8080/"
        },
        "id": "WHDdvk9trMI1",
        "outputId": "ed0ac2c6-9b93-4d78-f2f3-2d402b38b3dd"
      },
      "source": [
        "ditAbout={\r\n",
        "          \"name\":\"adeeba\",\r\n",
        "          \"age\":\"20\",\r\n",
        "          \"collage\":\"LCIT\"\r\n",
        "          }\r\n",
        "ditAbout.items() #items:-Returns a list containing a tuple for each key value pair"
      ],
      "execution_count": 166,
      "outputs": [
        {
          "output_type": "execute_result",
          "data": {
            "text/plain": [
              "dict_items([('name', 'adeeba'), ('age', '20'), ('collage', 'LCIT')])"
            ]
          },
          "metadata": {
            "tags": []
          },
          "execution_count": 166
        }
      ]
    },
    {
      "cell_type": "code",
      "metadata": {
        "colab": {
          "base_uri": "https://localhost:8080/",
          "height": 35
        },
        "id": "pfVkBiD_w9VP",
        "outputId": "38207b64-e24e-47b7-ab72-4b9e2162019f"
      },
      "source": [
        "ditAbout.pop(\"age\") #pop:-Removes the element with the specified key\r\n"
      ],
      "execution_count": 167,
      "outputs": [
        {
          "output_type": "execute_result",
          "data": {
            "application/vnd.google.colaboratory.intrinsic+json": {
              "type": "string"
            },
            "text/plain": [
              "'20'"
            ]
          },
          "metadata": {
            "tags": []
          },
          "execution_count": 167
        }
      ]
    },
    {
      "cell_type": "code",
      "metadata": {
        "colab": {
          "base_uri": "https://localhost:8080/"
        },
        "id": "nBI2KG9ZyRcc",
        "outputId": "24527b7e-b9de-45d4-835c-7776fd838c2e"
      },
      "source": [
        "ditAbout.popitem() #popitem:-Removes the last inserted key-value pair\r\n",
        "print(ditAbout)"
      ],
      "execution_count": 161,
      "outputs": [
        {
          "output_type": "stream",
          "text": [
            "{'name': 'adeeba', 'age': '20'}\n"
          ],
          "name": "stdout"
        }
      ]
    },
    {
      "cell_type": "code",
      "metadata": {
        "colab": {
          "base_uri": "https://localhost:8080/"
        },
        "id": "oU6-iLgCzIeE",
        "outputId": "40cc0361-a89b-43c9-efe2-94b2de162393"
      },
      "source": [
        "ditAbout.keys() #keys:-Returns a list containing the dictionary's keys"
      ],
      "execution_count": 164,
      "outputs": [
        {
          "output_type": "execute_result",
          "data": {
            "text/plain": [
              "dict_keys(['name', 'age', 'collage'])"
            ]
          },
          "metadata": {
            "tags": []
          },
          "execution_count": 164
        }
      ]
    },
    {
      "cell_type": "code",
      "metadata": {
        "colab": {
          "base_uri": "https://localhost:8080/"
        },
        "id": "77dvzeKSznwp",
        "outputId": "7afdf066-030d-4dc9-d898-eeaed73658b2"
      },
      "source": [
        "ditAbout.values() #values:-\tReturns a list of all the values in the dictionary"
      ],
      "execution_count": 165,
      "outputs": [
        {
          "output_type": "execute_result",
          "data": {
            "text/plain": [
              "dict_values(['adeeba', '20', 'LCIT'])"
            ]
          },
          "metadata": {
            "tags": []
          },
          "execution_count": 165
        }
      ]
    }
  ]
}